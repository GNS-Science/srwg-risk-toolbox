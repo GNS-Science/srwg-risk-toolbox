{
 "cells": [
  {
   "cell_type": "code",
   "execution_count": 17,
   "metadata": {},
   "outputs": [],
   "source": [
    "from srwg_risk_toolbox import *"
   ]
  },
  {
   "cell_type": "code",
   "execution_count": 5,
   "metadata": {},
   "outputs": [],
   "source": [
    "import os\n",
    "from pathlib import Path"
   ]
  },
  {
   "cell_type": "markdown",
   "metadata": {},
   "source": [
    "### parameters for risk assessment"
   ]
  },
  {
   "cell_type": "code",
   "execution_count": 11,
   "metadata": {},
   "outputs": [
    {
     "name": "stdout",
     "output_type": "stream",
     "text": [
      "folder already exists\n"
     ]
    }
   ],
   "source": [
    "foldername = 'test_run'\n",
    "filename = 'risk_distributions.json'\n",
    "\n",
    "if os.path.exists(Path('results',foldername)):\n",
    "    print('folder already exists')\n",
    "else:\n",
    "    os.mkdir(Path('results',foldername))\n",
    "    print('results folder created')"
   ]
  },
  {
   "cell_type": "code",
   "execution_count": 12,
   "metadata": {},
   "outputs": [],
   "source": [
    "imt_list = ['SA(0.5)','SA(1.0)','SA(3.0)']\n",
    "site_list = ['Wellington']\n",
    "vs30_list = [275]"
   ]
  },
  {
   "cell_type": "code",
   "execution_count": 13,
   "metadata": {},
   "outputs": [],
   "source": [
    "mean_cmr = 6\n",
    "std_cmr = 1.5\n",
    "min_cmr = 3\n",
    "max_cmr = 9"
   ]
  },
  {
   "cell_type": "code",
   "execution_count": 14,
   "metadata": {},
   "outputs": [],
   "source": [
    "hazard_rp = 500\n",
    "p_fatality_given_collapse = 0.1\n",
    "\n",
    "hf_i_metric = 0 # index for the mean in the hazard curves file"
   ]
  },
  {
   "cell_type": "code",
   "execution_count": 18,
   "metadata": {},
   "outputs": [],
   "source": [
    "site_demand_file = 'data/SaT-variables_v5_corrected-locations.pkl'\n",
    "demand_df = pd.read_pickle(site_demand_file)"
   ]
  },
  {
   "cell_type": "code",
   "execution_count": 19,
   "metadata": {},
   "outputs": [],
   "source": [
    "hcurves_file = 'data/hcurves_12-locations_all-NSHM-parameters.hdf5'\n",
    "\n",
    "with h5py.File(hcurves_file,'r') as hf:\n",
    "    hf_vs30_list = list(hf['metadata'].attrs['vs30s'])\n",
    "    sites = pd.DataFrame(ast.literal_eval(hf['metadata'].attrs['sites']))\n",
    "    hf_site_list = list(sites.index)\n",
    "    imtls = ast.literal_eval(hf['metadata'].attrs['acc_imtls'])\n",
    "    hf_imt_list = list(imtls.keys())\n",
    "    hf_period_list = [period_from_imt(imt) for imt in hf_imt_list]\n",
    "    quantiles = hf['metadata'].attrs['quantiles']\n",
    "    \n",
    "    hcurves = hf['hcurves']['hcurves_stats'][:]"
   ]
  },
  {
   "cell_type": "markdown",
   "metadata": {},
   "source": [
    "### sample fragilities"
   ]
  },
  {
   "cell_type": "code",
   "execution_count": 20,
   "metadata": {},
   "outputs": [],
   "source": [
    "n_samples = 5000\n",
    "n_runs = 1\n",
    "\n",
    "risk_results = {}\n",
    "for i in range(n_runs):\n",
    "    risk_results[f'v{i}'] = {}\n",
    "    risk_results[f'v{i}']['metadata'] = {}\n",
    "    \n",
    "    risk_results[f'v{i}']['metadata']['bldg_cmrs'] = sample_cmrs(n_samples,mean_cmr,std_cmr,min_cmr,max_cmr).tolist()\n",
    "    risk_results[f'v{i}']['metadata']['bldg_betas'] = sample_betas(n_samples).tolist()"
   ]
  },
  {
   "cell_type": "markdown",
   "metadata": {},
   "source": [
    "### set up dictionary structure for risk analysis"
   ]
  },
  {
   "cell_type": "code",
   "execution_count": 21,
   "metadata": {},
   "outputs": [],
   "source": [
    "for v_key in risk_results.keys():\n",
    "    key = 'risk'\n",
    "    risk_results[v_key][key] = {}\n",
    "    for site in site_list:\n",
    "        risk_results[v_key][key][site] = {}\n",
    "        for vs30 in vs30_list:\n",
    "            risk_results[v_key][key][site][vs30] = {}\n",
    "            for imt in imt_list:\n",
    "                risk_results[v_key][key][site][vs30][imt] = {}\n",
    "                for subkey in ['risk_distribution']:\n",
    "                    risk_results[v_key][key][site][vs30][imt][subkey] = {} "
   ]
  },
  {
   "cell_type": "code",
   "execution_count": 22,
   "metadata": {},
   "outputs": [],
   "source": [
    "for v_key in risk_results.keys():\n",
    "    for i_site,site in enumerate(site_list):\n",
    "        for i_vs30,vs30 in enumerate(vs30_list):\n",
    "            sc = choose_site_class(vs30)\n",
    "            \n",
    "            pga,sas,tc = demand_df.loc[site,(f'APoE: 1/{hazard_rp}',f'Site Soil Class {sc}',slice(None))]\n",
    "            \n",
    "            for i_imt,imt in enumerate(imt_list):\n",
    "                period = period_from_imt(imt)\n",
    "                sa_t = uhs_value(period,pga,sas,tc)\n",
    "\n",
    "                hf_i_site = hf_site_list.index(site)\n",
    "                hf_i_imt = hf_imt_list.index(imt)\n",
    "                hf_i_vs30 = hf_vs30_list.index(vs30)\n",
    "\n",
    "                hcurve = hcurves[hf_i_vs30,hf_i_site,hf_i_imt,:,hf_i_metric]\n",
    "                imtl = imtls[imt]\n",
    "                \n",
    "                subkey = 'risk_distribution'\n",
    "                risk_distribution = []\n",
    "                for cmr,beta in zip(risk_results[v_key]['metadata']['bldg_cmrs'],risk_results[v_key]['metadata']['bldg_betas']):\n",
    "                    median = sa_t * cmr\n",
    "                    collapse_risk, disaggregation = risk_convolution(hcurve, imtl, median, beta)\n",
    "                    risk_distribution.append(collapse_risk * p_fatality_given_collapse)\n",
    "                risk_results[v_key][key][site][vs30][imt][subkey]['array'] = risk_distribution\n",
    "                risk_results[v_key][key][site][vs30][imt][subkey]['mean'] = np.mean(risk_distribution)\n",
    "                for q in [0.5,0.9]:\n",
    "                    risk_results[v_key][key][site][vs30][imt][subkey][f'{q}'] = np.quantile(risk_distribution,q)\n",
    "                "
   ]
  },
  {
   "cell_type": "code",
   "execution_count": 23,
   "metadata": {},
   "outputs": [
    {
     "data": {
      "text/html": [
       "<pre style=\"white-space:pre;overflow-x:auto;line-height:normal;font-family:Menlo,'DejaVu Sans Mono',consolas,'Courier New',monospace\">Dictionary                                                                                   \n",
       "└── v0                                                                                       \n",
       "    ├── metadata                                                                             \n",
       "    │   ├── bldg_cmrs (&lt;class 'list'&gt;)                                                       \n",
       "    │   └── bldg_betas (&lt;class 'list'&gt;)                                                      \n",
       "    └── risk                                                                                 \n",
       "        └── Wellington                                                                       \n",
       "            └── 275                                                                          \n",
       "                ├── SA(0.5)                                                                  \n",
       "                │   └── risk_distribution                                                    \n",
       "                │       ├── array (&lt;class 'list'&gt;)                                           \n",
       "                │       ├── mean (&lt;class 'numpy.float64'&gt;)                                   \n",
       "                │       ├── 0.5 (&lt;class 'numpy.float64'&gt;)                                    \n",
       "                │       └── 0.9 (&lt;class 'numpy.float64'&gt;)                                    \n",
       "                ├── SA(1.0)                                                                  \n",
       "                │   └── risk_distribution                                                    \n",
       "                │       ├── array (&lt;class 'list'&gt;)                                           \n",
       "                │       ├── mean (&lt;class 'numpy.float64'&gt;)                                   \n",
       "                │       ├── 0.5 (&lt;class 'numpy.float64'&gt;)                                    \n",
       "                │       └── 0.9 (&lt;class 'numpy.float64'&gt;)                                    \n",
       "                └── SA(3.0)                                                                  \n",
       "                    └── risk_distribution                                                    \n",
       "                        ├── array (&lt;class 'list'&gt;)                                           \n",
       "                        ├── mean (&lt;class 'numpy.float64'&gt;)                                   \n",
       "                        ├── 0.5 (&lt;class 'numpy.float64'&gt;)                                    \n",
       "                        └── 0.9 (&lt;class 'numpy.float64'&gt;)                                    \n",
       "</pre>\n"
      ],
      "text/plain": [
       "Dictionary                                                                                   \n",
       "└── v0                                                                                       \n",
       "    ├── metadata                                                                             \n",
       "    │   ├── bldg_cmrs (<class 'list'>)                                                       \n",
       "    │   └── bldg_betas (<class 'list'>)                                                      \n",
       "    └── risk                                                                                 \n",
       "        └── Wellington                                                                       \n",
       "            └── 275                                                                          \n",
       "                ├── SA(0.5)                                                                  \n",
       "                │   └── risk_distribution                                                    \n",
       "                │       ├── array (<class 'list'>)                                           \n",
       "                │       ├── mean (<class 'numpy.float64'>)                                   \n",
       "                │       ├── 0.5 (<class 'numpy.float64'>)                                    \n",
       "                │       └── 0.9 (<class 'numpy.float64'>)                                    \n",
       "                ├── SA(1.0)                                                                  \n",
       "                │   └── risk_distribution                                                    \n",
       "                │       ├── array (<class 'list'>)                                           \n",
       "                │       ├── mean (<class 'numpy.float64'>)                                   \n",
       "                │       ├── 0.5 (<class 'numpy.float64'>)                                    \n",
       "                │       └── 0.9 (<class 'numpy.float64'>)                                    \n",
       "                └── SA(3.0)                                                                  \n",
       "                    └── risk_distribution                                                    \n",
       "                        ├── array (<class 'list'>)                                           \n",
       "                        ├── mean (<class 'numpy.float64'>)                                   \n",
       "                        ├── 0.5 (<class 'numpy.float64'>)                                    \n",
       "                        └── 0.9 (<class 'numpy.float64'>)                                    \n"
      ]
     },
     "metadata": {},
     "output_type": "display_data"
    }
   ],
   "source": [
    "create_dictionary_tree(risk_results,description=True)"
   ]
  },
  {
   "cell_type": "code",
   "execution_count": 24,
   "metadata": {},
   "outputs": [],
   "source": [
    "with open(Path('results',foldername,filename),'w') as f:\n",
    "    json.dump(risk_results,f,indent=4)"
   ]
  },
  {
   "cell_type": "code",
   "execution_count": null,
   "metadata": {},
   "outputs": [],
   "source": []
  },
  {
   "cell_type": "code",
   "execution_count": 25,
   "metadata": {},
   "outputs": [],
   "source": [
    "set_plot_formatting()\n",
    "from matplotlib.lines import Line2D"
   ]
  },
  {
   "cell_type": "code",
   "execution_count": 26,
   "metadata": {},
   "outputs": [
    {
     "data": {
      "image/png": "[encoded data removed]",
      "text/plain": [
       "<Figure size 432x288 with 1 Axes>"
      ]
     },
     "metadata": {
      "needs_background": "light"
     },
     "output_type": "display_data"
    },
    {
     "data": {
      "image/png": "[encoded data removed]",
      "text/plain": [
       "<Figure size 432x288 with 1 Axes>"
      ]
     },
     "metadata": {
      "needs_background": "light"
     },
     "output_type": "display_data"
    },
    {
     "data": {
      "image/png": "[encoded data removed]",
      "text/plain": [
       "<Figure size 432x288 with 1 Axes>"
      ]
     },
     "metadata": {
      "needs_background": "light"
     },
     "output_type": "display_data"
    }
   ],
   "source": [
    "n_bins = 100\n",
    "hist_color = 'lightgray'\n",
    "\n",
    "max_x = 2e-5\n",
    "x_ticks = np.array([0.1,0.5,1,1.5,2])*1e-5\n",
    "\n",
    "marker_size = 50\n",
    "marker_yscale = 0.025\n",
    "\n",
    "ylabel = 'Probability Density'\n",
    "xlabel = 'Risk, $\\it{AIFR}$'\n",
    "\n",
    "key = 'risk'\n",
    "subkey = 'risk_distribution'\n",
    "for v_key in risk_results.keys():\n",
    "    for i_site,site in enumerate(site_list):\n",
    "        for i_vs30,vs30 in enumerate(vs30_list):\n",
    "            for i_imt,imt in enumerate(imt_list):\n",
    "                \n",
    "                fig,ax = plt.subplots(1,1)\n",
    "                \n",
    "                dist = risk_results[v_key][key][site][vs30][imt][subkey]['array']\n",
    "                _ = ax.hist(dist,bins=n_bins,density=True,color=hist_color)\n",
    "                max_y = ax.get_ylim()[1]\n",
    "                \n",
    "                mean = risk_results[v_key][key][site][vs30][imt][subkey]['mean']\n",
    "                p50 = risk_results[v_key][key][site][vs30][imt][subkey]['0.5']\n",
    "                p90 = risk_results[v_key][key][site][vs30][imt][subkey]['0.9']\n",
    "                \n",
    "                legend_handles = []\n",
    "                for i_stat,stat in enumerate([p50,mean,p90]):\n",
    "                    label = ['50%','mean','90%'][i_stat]\n",
    "                    marker = ['D','o','^',][i_stat]\n",
    "                    _ = ax.scatter(stat,marker_yscale*max_y,s=marker_size,marker=marker,color='w',edgecolor='k',lw=2,zorder=10-i_stat)\n",
    "                    legend_handles.append(Line2D([0],[0],color='w',marker=marker,markersize=7.5,markerfacecolor='w',markeredgecolor='k',markeredgewidth=2,label=label))\n",
    "                _ = ax.legend(handles=legend_handles,loc='upper right',handlelength=1,handletextpad=0.25,fontsize=14,ncol=3,columnspacing=0.75)\n",
    "\n",
    "                _ = ax.set_xlim([0,max_x])\n",
    "                _ = ax.set_ylim([0,max_y])\n",
    "                _ = ax.ticklabel_format(style='sci',scilimits=(0,0))\n",
    "                _ = ax.set_ylabel(ylabel)\n",
    "                _ = ax.set_xlabel(xlabel)\n",
    "                _ = ax.set_xticks(x_ticks)\n",
    "                _ = ax.grid(axis='x',ls='-')\n",
    "                _ = ax.set_title(f'{site}\\n{imt}, Vs30={vs30} m/s')"
   ]
  },
  {
   "cell_type": "code",
   "execution_count": null,
   "metadata": {},
   "outputs": [],
   "source": []
  }
 ],
 "metadata": {
  "kernelspec": {
   "display_name": "py310",
   "language": "python",
   "name": "py310"
  },
  "language_info": {
   "codemirror_mode": {
    "name": "ipython",
    "version": 3
   },
   "file_extension": ".py",
   "mimetype": "text/x-python",
   "name": "python",
   "nbconvert_exporter": "python",
   "pygments_lexer": "ipython3",
   "version": "3.10.4"
  }
 },
 "nbformat": 4,
 "nbformat_minor": 4
}
